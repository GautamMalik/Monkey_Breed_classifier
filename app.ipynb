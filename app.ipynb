{
 "cells": [
  {
   "cell_type": "code",
   "execution_count": 84,
   "metadata": {},
   "outputs": [],
   "source": [
    "from flask import Flask, render_template, request\n",
    "import numpy as np\n",
    "import cv2 as cv\n",
    "import os"
   ]
  },
  {
   "cell_type": "code",
   "execution_count": 85,
   "metadata": {},
   "outputs": [],
   "source": [
    "from keras.models import load_model\n",
    "\n",
    "mod=load_model('D:/imp_programm/monkey_breed_classifier/MONKEY_BREED_MOBILENET_MODEL.h5')"
   ]
  },
  {
   "cell_type": "code",
   "execution_count": 86,
   "metadata": {},
   "outputs": [],
   "source": [
    "app = Flask(__name__)"
   ]
  },
  {
   "cell_type": "code",
   "execution_count": 87,
   "metadata": {},
   "outputs": [],
   "source": [
    "path='D:/imp_programm/monkey_breed_classifier/upload_files/'"
   ]
  },
  {
   "cell_type": "code",
   "execution_count": 88,
   "metadata": {},
   "outputs": [],
   "source": [
    "dic=  {'n0' :   'mantled_howler',          \n",
    "        'n1' : 'patas_monkey'                  , \n",
    "        'n2'  : 'bald_uakari'                   , \n",
    "        'n3' :  'japanese_macaque'              , \n",
    "        'n4'  :  'pygmy_marmoset'                , \n",
    "        'n5'  :  'white_headed_capuchin'         , \n",
    "        'n6'  :  'silvery_marmoset'              , \n",
    "        'n7'  :  'common_squirrel_monkey'        , \n",
    "        'n8'  :  'black_headed_night_monkey'     , \n",
    "       'n9'  :  'nilgiri_langur' }"
   ]
  },
  {
   "cell_type": "code",
   "execution_count": 89,
   "metadata": {},
   "outputs": [],
   "source": [
    "def preprocess(w):\n",
    "    inp=cv.imread(w)\n",
    "    inp=cv.resize(inp,(224,224),interpolation=cv.INTER_LINEAR)\n",
    "    inp=inp/255\n",
    "    inp=inp.reshape(1,224,224,3)\n",
    "    \n",
    "\n",
    "    return inp"
   ]
  },
  {
   "cell_type": "code",
   "execution_count": 90,
   "metadata": {},
   "outputs": [],
   "source": [
    "@app.route('/')\n",
    "def home():\n",
    "    return render_template('index.html')"
   ]
  },
  {
   "cell_type": "code",
   "execution_count": 91,
   "metadata": {},
   "outputs": [],
   "source": [
    "@app.route('/predict', methods=['POST'])\n",
    "def predict():\n",
    "    if request.method == 'POST':\n",
    "        file=request.files['image']\n",
    "        \n",
    "        if file:\n",
    "            loc=os.path.join(path,file.filename)\n",
    "            file.save(loc)\n",
    "            inp=preprocess(loc)\n",
    "            pred=np.argmax(mod.predict(inp))\n",
    "            \n",
    "            \n",
    "            return render_template('index.html', pred=pred,img_path=loc)\n",
    "       \n",
    "        else:\n",
    "            return render_template('index.html')"
   ]
  },
  {
   "cell_type": "markdown",
   "metadata": {},
   "source": [
    "inp=preprocess(image)       \n",
    "pred=np.argmax(mod.predict(inp))\n",
    "name= dic['n'+str(pred)]"
   ]
  },
  {
   "cell_type": "code",
   "execution_count": 94,
   "metadata": {},
   "outputs": [
    {
     "name": "stdout",
     "output_type": "stream",
     "text": [
      " * Serving Flask app \"__main__\" (lazy loading)\n",
      " * Environment: production\n",
      "   WARNING: This is a development server. Do not use it in a production deployment.\n",
      "   Use a production WSGI server instead.\n",
      " * Debug mode: on\n"
     ]
    },
    {
     "name": "stderr",
     "output_type": "stream",
     "text": [
      " * Restarting with windowsapi reloader\n"
     ]
    },
    {
     "ename": "SystemExit",
     "evalue": "1",
     "output_type": "error",
     "traceback": [
      "An exception has occurred, use %tb to see the full traceback.\n",
      "\u001b[1;31mSystemExit\u001b[0m\u001b[1;31m:\u001b[0m 1\n"
     ]
    }
   ],
   "source": [
    "if __name__ == '__main__':\n",
    "\tapp.run(debug=True)"
   ]
  },
  {
   "cell_type": "code",
   "execution_count": null,
   "metadata": {},
   "outputs": [],
   "source": []
  }
 ],
 "metadata": {
  "kernelspec": {
   "display_name": "Python 3",
   "language": "python",
   "name": "python3"
  },
  "language_info": {
   "codemirror_mode": {
    "name": "ipython",
    "version": 3
   },
   "file_extension": ".py",
   "mimetype": "text/x-python",
   "name": "python",
   "nbconvert_exporter": "python",
   "pygments_lexer": "ipython3",
   "version": "3.8.2"
  }
 },
 "nbformat": 4,
 "nbformat_minor": 4
}
